{
 "cells": [
  {
   "cell_type": "markdown",
   "id": "519636e2",
   "metadata": {},
   "source": [
    "<center><b><h1><u>Task 1 </u></h1></b></center>\n",
    "\n",
    "Write a program that does the following:\n",
    "\n",
    "a) Stores a random number (1-10) in a variable – see hint below.\n",
    "\n",
    "b) Asks a user for their name and stores this in a variable.\n",
    "\n",
    "c) Asks a user to guess the number between 1 and 10.\n",
    "\n",
    "d) Tells the user whether they have guessed correctly. "
   ]
  },
  {
   "cell_type": "code",
   "execution_count": 1,
   "id": "7576cdec",
   "metadata": {},
   "outputs": [
    {
     "name": "stdout",
     "output_type": "stream",
     "text": [
      "Enter your name and guess a number between 1 and 10: Igwe 3\n",
      "Igwe, you guessed wrong. Your guess is 3 and the expected number is 8.\n"
     ]
    }
   ],
   "source": [
    "import random #import random library\n",
    "ranNum = random.randint(1,10) #a. Stores a random number (1-10) in a RanNum variable.\n",
    "\n",
    "name, guess = map(str, input('Enter your name and guess a number between 1 and 10: ').split(\" \")) #b) Asks a user for their name & c) guess the number between 1 and 10.\n",
    "\n",
    "#d) Tells the user whether they have guessed correctly. \n",
    "if int(guess) == ranNum:\n",
    "    print(f'{name}, you guessed correctly')\n",
    "else:\n",
    "    print(f'{name}, you guessed wrong. Your guess is {guess} and the expected number is {ranNum}.')"
   ]
  },
  {
   "cell_type": "markdown",
   "id": "fbc27bfd",
   "metadata": {},
   "source": [
    "<center><u><h1><b>Task 2</b></h1></u></center>\n",
    "\n",
    "Write a program that asks a user for their favourite number between 1 and 100 and then tells them a joke based on the number. You should use a minimum of 3 jokes."
   ]
  },
  {
   "cell_type": "code",
   "execution_count": 2,
   "id": "4f5c18ba",
   "metadata": {},
   "outputs": [
    {
     "name": "stdout",
     "output_type": "stream",
     "text": [
      "Pick a number:- 1, 2 or 3 and I will tell you a joke: 3\n",
      "\n",
      "You picked 3 and here goes your joke: \n",
      "\n",
      "In python, 1+1 can be both 2 and 11 depending on the context.\n"
     ]
    }
   ],
   "source": [
    "num = int(input('Pick a number:- 1, 2 or 3 and I will tell you a joke: '))\n",
    "\n",
    "if num == 1:\n",
    "    print(f\"\\nYou picked {num} and here goes your joke:\\n\\nElephant is big in size but weak in strenght.\")\n",
    "\n",
    "elif num == 2:\n",
    "    print(f\"\\nYou picked {num} and here goes your joke: \\n\\nI love coding in python but I hate the animal that owes the name.\")\n",
    "\n",
    "elif num == 3:\n",
    "    print(f\"\\nYou picked {num} and here goes your joke: \\n\\nIn python, 1+1 can be both 2 and 11 depending on the context.\")\n",
    "    \n",
    "else:\n",
    "    print(f\"\\nYou picked {num} and the joke is on me!\")"
   ]
  },
  {
   "cell_type": "markdown",
   "id": "761518a9",
   "metadata": {},
   "source": [
    "<center><u><h1><b>Task 3</b></h1></u></center>\n",
    "\n",
    "Write a program that allows user to enter their favourite starter, main course, dessert and drink.\n",
    "\n",
    "Concatenate these and output a message which says – “Your favourite meal is  ………with a glass of….”"
   ]
  },
  {
   "cell_type": "code",
   "execution_count": 3,
   "id": "bd1e9877",
   "metadata": {},
   "outputs": [
    {
     "name": "stdout",
     "output_type": "stream",
     "text": [
      "Enter your favorite starter, main course, dessert and drink in that order, separated by a single space.Fries Rice Fruits Milkshake\n",
      "Your favourite meal is Fries, Rice and Fruits with a glass of Milkshake.\n"
     ]
    }
   ],
   "source": [
    "starter, main_course, dessert, drink = map(str, input(\"Enter your favorite starter, main course, dessert and drink in that order, separated by a single space: \").split(\" \"))\n",
    "\n",
    "print(f\"\\nYour favourite meal is {starter}, {main_course} and {dessert} with a glass of {drink}.\")"
   ]
  },
  {
   "cell_type": "markdown",
   "id": "9c63df02",
   "metadata": {},
   "source": [
    "<center><u><h1><b>Task 4</b></h1></u></center>\n",
    "\n",
    "A motorbike costs £2000 and loses 10% of its value every year. Using a loop, print the value of the bike every following year until it falls below £1000.​"
   ]
  },
  {
   "cell_type": "code",
   "execution_count": 6,
   "id": "f350a277",
   "metadata": {},
   "outputs": [
    {
     "name": "stdout",
     "output_type": "stream",
     "text": [
      "1800.00\n",
      "1620.00\n",
      "1458.00\n",
      "1312.20\n",
      "1180.98\n",
      "1062.88\n",
      "956.59\n"
     ]
    }
   ],
   "source": [
    "bike_cost = 2000\n",
    "count = 0\n",
    "while bike_cost > 1000:\n",
    "    cur_cost = bike_cost*0.1\n",
    "    bike_cost = bike_cost - cur_cost\n",
    "    print('{:.2f}'.format(bike_cost))\n",
    "    count += 1"
   ]
  },
  {
   "cell_type": "markdown",
   "id": "0e5bec7a",
   "metadata": {},
   "source": [
    "<center><u><h1><b>Task 5</b></h1></u></center>\n",
    "\n",
    "Write a program which will ask for two numbers from a user. Then offer a menu to the user giving them a choice of operator:\n",
    "e.g. – Enter “a” if you want to add\n",
    "                   “b” if you want to subtract\n",
    "\n",
    "Include +, -, /, *, ** square (to the power of). Once the user has selected which operator they wish to use, perform the calculation."
   ]
  },
  {
   "cell_type": "code",
   "execution_count": 5,
   "id": "221e3333",
   "metadata": {},
   "outputs": [
    {
     "name": "stdout",
     "output_type": "stream",
     "text": [
      "Enter first and second number followed by a (addition), s (subtraction), d (division), m (multiplication) or p (square each number): 5 3 m\n",
      "Product of 5 and 3 is:  15\n"
     ]
    }
   ],
   "source": [
    "num1, num2, operand = map(str, input('Enter first and second number followed by a (addition), s (subtraction), d (division), m (multiplication) or p (square each number): ').split(' '))\n",
    "num1 = int(num1)\n",
    "num2 = int(num2)\n",
    "operand = operand.lower()\n",
    "\n",
    "if operand == 'a':\n",
    "    print(f'Sum of {num1} and {num2} is: ', num1 + num2)\n",
    "\n",
    "elif operand == 's':\n",
    "    print(f'Difference between {num1} and {num2} is: ', num1 - num2)\n",
    "elif operand == 'm':\n",
    "    print(f'Product of {num1} and {num2} is: ', num1 * num2)\n",
    "elif operand == 'd':\n",
    "    print(f'{num1} divided by {num2} is: ', num1/num2)\n",
    "elif operand == 'p':\n",
    "    print(f'{num1} raised to the power of {num2} is: ', num1**num2)\n",
    "else:\n",
    "    print('Please check that you entered the options correctly, separated by a single space.')"
   ]
  }
 ],
 "metadata": {
  "kernelspec": {
   "display_name": "Python 3",
   "language": "python",
   "name": "python3"
  },
  "language_info": {
   "codemirror_mode": {
    "name": "ipython",
    "version": 3
   },
   "file_extension": ".py",
   "mimetype": "text/x-python",
   "name": "python",
   "nbconvert_exporter": "python",
   "pygments_lexer": "ipython3",
   "version": "3.8.8"
  }
 },
 "nbformat": 4,
 "nbformat_minor": 5
}
